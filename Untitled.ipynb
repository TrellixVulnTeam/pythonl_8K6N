{
 "cells": [
  {
   "cell_type": "code",
   "execution_count": 1,
   "id": "8c525a41-3410-4244-9803-7d79836e60cf",
   "metadata": {},
   "outputs": [],
   "source": [
    "def f(x):\n",
    "    if x<=-2:\n",
    "        a=(1-(x+2)**2)\n",
    "        print(a)\n",
    "    elif x>-2 or x<2:\n",
    "        b=((x/2)*-1)\n",
    "        print(b)\n",
    "    else:\n",
    "        c=((x-2)**2)+1\n",
    "        print(c)\n",
    "\n"
   ]
  },
  {
   "cell_type": "code",
   "execution_count": 2,
   "id": "e14342ee-00cb-4332-84b1-6cfd1ea68489",
   "metadata": {},
   "outputs": [],
   "source": [
    "def f(x):\n",
    "    if x<=-2:\n",
    "        a=(1-(x+2)**2)\n",
    "        print(a)\n",
    "    elif x>-2 or x<2:\n",
    "        b=((x/2)*-1)\n",
    "        print(b)\n",
    "    else:\n",
    "        c=((x-2)**2)+1\n",
    "        print(c)"
   ]
  },
  {
   "cell_type": "code",
   "execution_count": 3,
   "id": "0727241a-3564-4f50-983d-605137ce0826",
   "metadata": {},
   "outputs": [],
   "source": [
    "def f(x):\n",
    "    if x<=-2:\n",
    "        a=(1-(x+2)**2)\n",
    "        print(a)\n",
    "    elif x>-2 or x<2:\n",
    "        b=((x/2)*-1)\n",
    "        print(b)\n",
    "    else:\n",
    "        c=((x-2)**2)+1\n",
    "        print(c)"
   ]
  },
  {
   "cell_type": "code",
   "execution_count": 12,
   "id": "73c825be-7dc4-432b-a791-314b40cc36cc",
   "metadata": {},
   "outputs": [],
   "source": [
    "x=4.5\n",
    "def f(x):\n",
    "    if x<=-2:\n",
    "        a=(1-(x+2)**2)\n",
    "        print(a)\n",
    "    elif x>-2 or x<2:\n",
    "        b=((x/2)*-1)\n",
    "        print(b)\n",
    "    else:\n",
    "        c=((x-2)**2)+1\n",
    "        print(c)"
   ]
  },
  {
   "cell_type": "code",
   "execution_count": null,
   "id": "563363fa-141a-41b3-8b1e-6d1664e9fa54",
   "metadata": {},
   "outputs": [],
   "source": []
  }
 ],
 "metadata": {
  "kernelspec": {
   "display_name": "Python 3 (ipykernel)",
   "language": "python",
   "name": "python3"
  },
  "language_info": {
   "codemirror_mode": {
    "name": "ipython",
    "version": 3
   },
   "file_extension": ".py",
   "mimetype": "text/x-python",
   "name": "python",
   "nbconvert_exporter": "python",
   "pygments_lexer": "ipython3",
   "version": "3.9.6"
  }
 },
 "nbformat": 4,
 "nbformat_minor": 5
}
